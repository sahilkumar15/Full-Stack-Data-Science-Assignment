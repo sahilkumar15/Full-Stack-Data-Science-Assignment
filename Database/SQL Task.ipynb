{
 "cells": [
  {
   "cell_type": "markdown",
   "id": "17c0910e",
   "metadata": {},
   "source": [
    "# task 1 dump carbon data in sql data base"
   ]
  },
  {
   "cell_type": "code",
   "execution_count": 1,
   "id": "da4e8fe5",
   "metadata": {},
   "outputs": [
    {
     "name": "stdout",
     "output_type": "stream",
     "text": [
      "Table Created!!\n",
      "Values inserted!!\n"
     ]
    }
   ],
   "source": [
    "import mysql.connector as connection\n",
    "import pandas as pandas\n",
    "import csv\n",
    "\n",
    "try:\n",
    "    mydb = connection.connect(host=\"localhost\", user=\"root\", passwd=\"root123\",use_pure=True)\n",
    "    #check if the connection is established\n",
    "    print(mydb.is_connected())\n",
    "    #create a new database\n",
    "    query = \"Create database Carbon;\"\n",
    "    cursor = mydb.cursor() #create a cursor to execute queries\n",
    "    cursor.execute(query)\n",
    "    print(\"Database Created!!\")\n",
    "    mydb.close() #close the connection\n",
    "\n",
    "    #Establish a new connection to the database created above\n",
    "    mydb = connection.connect(host=\"localhost\", database = 'Carbon',user=\"root\", passwd=\"root123\", use_pure=True)\n",
    "# 'Chiral indice n', 'Chiral indice m', 'Initial atomic coordinate u', \n",
    "# 'Initial atomic coordinate v', 'Initial atomic coordinate w', \n",
    "# \"Calculated atomic coordinates u'\", \"Calculated atomic coordinates v'\", \n",
    "# \"Calculated atomic coordinates w'\"\n",
    "    #create a new table to store glass data\n",
    "    query = \"CREATE TABLE IF NOT EXISTS nanotube2 (Chiral_indice_n INT(10),\"\\\n",
    "    \"Chiral_indice_m INT(10),Initial_atomic_coordinate_u INT(10), \" \\\n",
    "    \"Initial_atomic_coordinate_v INT(10), Initial_atomic_coordinate_w INT(10), \"\\\n",
    "    \"Calculated_atomic_coordinates_u INT(10),\" \\\n",
    "    \"Calculated_atomic_coordinates_v INT(10), Calculated_atomic_coordinates_w INT(10))\"\n",
    "    cursor = mydb.cursor()  # create a cursor to execute queries\n",
    "    cursor.execute(query)\n",
    "    print(\"Table Created!!\")\n",
    "\n",
    "    #read from the file\n",
    "#     with open('carbon_nanotubes.csv', \"r\") as f:\n",
    "# #         next(f)\n",
    "#         carbon_data = csv.reader(f, delimiter=\";\")\n",
    "#         next(carbon_data, None)\n",
    "#         for line in (carbon_data):\n",
    "            \n",
    "# #             line = [(s.replace(\"[\", \"['\")) for s in line]\n",
    "# #             line = [(s.replace(\"]\", \"']\")) for s in line]\n",
    "#             line = [int(s.replace(\"0,\", \"\")) for s in line]\n",
    "#             line = ','.join(map(str, line))\n",
    "# #             line =  \" \".join(str(x) for x in line)\n",
    "#             print((line))\n",
    "# #             for list_ in (new_list[1]):\n",
    "# #             cursor.execute('INSERT INTO nanotube2 values ({data})'.format(data=(str(line[0]))))\n",
    "#             cursor.execute(f'INSERT INTO nanotube2 values ({str(line)})')\n",
    "\n",
    "    #read from the file\n",
    "    with open('carbon_nanotubes.csv', \"r\") as f:\n",
    "        carbon_data = csv.reader(f, delimiter=\";\")\n",
    "        next(carbon_data, None)\n",
    "        for line in (carbon_data):\n",
    "            line = [int(s.replace(\"0,\", \"\")) for s in line]\n",
    "            line = ','.join(map(str, line))\n",
    "#             print((line))\n",
    "            cursor.execute(f'INSERT INTO nanotube2 values ({str(line)})')\n",
    "\n",
    "    \n",
    "    print(\"Values inserted!!\")\n",
    "    mydb.commit()\n",
    "    cursor.close()\n",
    "    mydb.close()\n",
    "\n",
    "except Exception as e:\n",
    "    #mydb.close()\n",
    "    print(str(e))"
   ]
  },
  {
   "cell_type": "code",
   "execution_count": 4,
   "id": "45b67e5d",
   "metadata": {},
   "outputs": [],
   "source": [
    "# l = [1,2,3] \n",
    "\n",
    "# l = [(s.replace(\"[\", \"['\")) for s in l]\n",
    "# l = [(s.replace(\"]\", \"']\")) for s in l]\n",
    "\n",
    "# l\n",
    "# # >>> \" \".join([str(x) for x in L])\n",
    "# # # '1 2 3'"
   ]
  },
  {
   "cell_type": "code",
   "execution_count": 5,
   "id": "11fba74e",
   "metadata": {},
   "outputs": [],
   "source": [
    "# l = [3, 1, 679005, 701318, 17033, 721039, 730232, 17014]\n",
    "# l = ','.join(map(str, l))\n",
    "# # # l =list(l)\n",
    "# # # l = str(l)\n",
    "# # l =  \" \".join(str(x) for x in l)\n",
    "# # l = '3, 1, 679005, 701318, 17033, 721039, 730232, 17014'\n",
    "# l"
   ]
  },
  {
   "cell_type": "code",
   "execution_count": 6,
   "id": "a7a76fa3",
   "metadata": {},
   "outputs": [],
   "source": [
    "# mydb = connection.connect(host=\"localhost\", database = 'Carbon',user=\"root\", passwd=\"root123\",use_pure=True)\n",
    "#     # check if the connection is established\n",
    "# print(mydb.is_connected())\n",
    "# cur = mydb.cursor()\n",
    "# # res = cur.execute(\"insert into nanotube2 values(2, 1, 679005, 701318, 17033, 721039, 730232, 17014)\")#yyyy-mm-dd"
   ]
  },
  {
   "cell_type": "code",
   "execution_count": 7,
   "id": "fc582cbb",
   "metadata": {},
   "outputs": [],
   "source": [
    "# cur.execute(f'INSERT INTO nanotube2 values ({str(l)})')"
   ]
  },
  {
   "cell_type": "code",
   "execution_count": 8,
   "id": "397fa292",
   "metadata": {},
   "outputs": [],
   "source": [
    "# cur.execute(\"insert into nanotube2 values(2, 1, 679005, 701318, 17033, 721039, 730232, 17014)\")"
   ]
  },
  {
   "cell_type": "code",
   "execution_count": 9,
   "id": "f8bb331d",
   "metadata": {},
   "outputs": [],
   "source": [
    "# mydb.commit()"
   ]
  },
  {
   "cell_type": "code",
   "execution_count": null,
   "id": "93b79160",
   "metadata": {},
   "outputs": [],
   "source": []
  }
 ],
 "metadata": {
  "kernelspec": {
   "display_name": "Python 3",
   "language": "python",
   "name": "python3"
  },
  "language_info": {
   "codemirror_mode": {
    "name": "ipython",
    "version": 3
   },
   "file_extension": ".py",
   "mimetype": "text/x-python",
   "name": "python",
   "nbconvert_exporter": "python",
   "pygments_lexer": "ipython3",
   "version": "3.8.5"
  }
 },
 "nbformat": 4,
 "nbformat_minor": 5
}
